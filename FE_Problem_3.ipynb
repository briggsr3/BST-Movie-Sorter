{
  "nbformat": 4,
  "nbformat_minor": 0,
  "metadata": {
    "colab": {
      "provenance": [],
      "toc_visible": true,
      "include_colab_link": true
    },
    "kernelspec": {
      "name": "python3",
      "display_name": "Python 3"
    },
    "language_info": {
      "name": "python"
    }
  },
  "cells": [
    {
      "cell_type": "markdown",
      "metadata": {
        "id": "view-in-github",
        "colab_type": "text"
      },
      "source": [
        "<a href=\"https://colab.research.google.com/github/briggsrr/BST-Movie-Sorter/blob/master/FE_Problem_3.ipynb\" target=\"_parent\"><img src=\"https://colab.research.google.com/assets/colab-badge.svg\" alt=\"Open In Colab\"/></a>"
      ]
    },
    {
      "cell_type": "markdown",
      "source": [
        "# CS/ECE-181: Final Exam\n",
        "\n",
        "<small>v1.0.0</small>\n",
        "\n",
        "**DUE DATE**: December 11, 11:59:00pm Pacific via GauchoSpace (**no exceptions!**)\n",
        "\n",
        "The final consists of the following problems:\n",
        "- [Problem 1: Short Answers](https://colab.research.google.com/drive/1Csm3TjIjL0ZsqNOJ1buBYcWSYHUhPEsY?usp=sharing) (27 points)\n",
        "- [Problem 2: Harris Corner Detection](https://colab.research.google.com/drive/1atY8FIA5yPAToC-U7swXLLfyBtL-11sv?usp=sharing) (25 points)\n",
        "- [Problem 3: Deep Learning-Based Object Recognition](https://colab.research.google.com/drive/1_hQ1dFOfa6nirCFltMt1tC4tBMaGMsTo?usp=sharing) (48 points)\n",
        "\n",
        "The following rules apply:\n",
        "\n",
        "* You can save a copy of this document in your own Drive and work on it in your own Colab.\n",
        "* You can add comments, multiple cells, etc. You can follow the code given in the instructions or you can veer from the path of light and go your own way. As long as you arrive at the desired solution, you will be fine. Just make sure to comment your code/explain what you did, so that we can give you partial credit.\n",
        "* When you're done:\n",
        "  - Select \"Runtime > Restart and run all\". Make sure the whole notebook works from top to bottom and still gives the expected results.\n",
        "  - Select \"File > Download > Download .ipynb\" and drop the file in the Final Exam folder on GauchoSpace. Upload one .ipynb file per problem (meaning you should upload a total of 3 files).\n",
        "* It is an open-book exam, but you should work on this alone. The implementation must be yours. Copying/editing/sharing code is not allowed. If you google how to do stuff (or use open-source code or libraries) you must acknowledge your sources.\n",
        "\n",
        "---"
      ],
      "metadata": {
        "id": "NL69RvRDn53D"
      }
    },
    {
      "cell_type": "markdown",
      "source": [
        "# 3. Deep Learning-Based Object Recognition (48 pts)\n",
        "\n",
        "In this problem, we will implement a convolutional neural network (CNN) to classify images from the CIFAR-10 dataset.\n",
        "\n",
        "CIFAR-10 is a reasonably small dataset that hopefully will not overwhelm Colab's CPU, GPU, and disk storage. Images are normalized, cropped, preprocessed and 1-hot encoded - so you do not need to perform trimming or detect objects.\n",
        "\n",
        "> Note: You are free to use NumPy for matrix manipulations, Matplotlib for plotting, and Keras for building and training the deep net."
      ],
      "metadata": {
        "id": "VZJiV3tHpEGn"
      }
    },
    {
      "cell_type": "markdown",
      "source": [
        "## 3.1 **TODO**: Load the dataset (4 pt)\n",
        "\n",
        "The first step is to load the dataset. You should end up with four variables:\n",
        "\n",
        "- `X_train`: training data\n",
        "- `y_train`: training labels\n",
        "- `X_test`: test data\n",
        "- `y_test`: test labels\n",
        "\n",
        "<small>(Hint: It's one of Keras' [included datasets](https://keras.io/api/datasets/cifar10/))</small>"
      ],
      "metadata": {
        "id": "prpfeYQtqW24"
      }
    },
    {
      "cell_type": "code",
      "source": [
        "import numpy as np\n",
        "from keras.datasets import cifar10\n",
        "(X_train, y_train), (X_test, y_test) = cifar10.load_data()\n",
        "\n",
        "print('Training set:', X_train.shape)\n",
        "print('Test set:', X_test.shape)\n",
        "print('Number of classes:', len(np.unique(y_train)))"
      ],
      "metadata": {
        "id": "O_gpK696q7Hi",
        "outputId": "5c03ee5e-a9ae-4c36-d655-b928f102cded",
        "colab": {
          "base_uri": "https://localhost:8080/"
        }
      },
      "execution_count": 5,
      "outputs": [
        {
          "output_type": "stream",
          "name": "stdout",
          "text": [
            "Training set: (50000, 32, 32, 3)\n",
            "Test set: (10000, 32, 32, 3)\n",
            "Number of classes: 10\n"
          ]
        }
      ]
    },
    {
      "cell_type": "markdown",
      "source": [
        "Inspect the data and determine the following:\n",
        "\n",
        "- number of training samples\n",
        "- number of test samples\n",
        "- image resolution (also: RGB or grayscale?)\n",
        "- number of classes"
      ],
      "metadata": {
        "id": "C35rFSOn4Kzd"
      }
    },
    {
      "cell_type": "markdown",
      "source": [
        "---\n",
        "\n",
        "The number of training samples are 50,000.\n",
        "\n",
        "The number of test samples are 10,000. \n",
        "\n",
        "The image resolution is 32x32 and they are RGB (indicated by 3 channels). \n",
        "\n",
        "There are 10 classes.\n",
        "\n",
        "\n",
        "---"
      ],
      "metadata": {
        "id": "hGv_SHDFBuCX"
      }
    },
    {
      "cell_type": "markdown",
      "source": [
        "## 3.2 **TODO**: Build the CNN (12 pts)\n",
        "\n",
        "It's unlikely we'll get state-of-the-art results with a Colab GPU and limited time, so we need to limit our expectations. \n",
        "\n",
        "Instead, you should design a (still relatively) simple deep net with the following structure:\n",
        "\n",
        "1. Input layer: Specify the appropriate shape (according to CIFAR-10 image shape)\n",
        "2. Convolutional layer: 7x7 kernel, 64 output channels, ReLU activation\n",
        "3. Max pooling layer: 2x2 pool size, stride 2\n",
        "4. Convolutional layer: 3x3 kernel, 128 output channels, ReLU activation\n",
        "5. Max pooling layer: 2x2 pool size, stride 2\n",
        "6. Convolutional layer: 3x3 kernel, 256 output channels, ReLU activation\n",
        "7. Max pooling layer: 2x2 pool size, stride 2\n",
        "8. Flatten the output\n",
        "9. Dropout layer (0.5 probability)\n",
        "10. Dense layer with softmax activation\n",
        "\n",
        "Print a model summary to make sure you got it right."
      ],
      "metadata": {
        "id": "IuTgYCozrZni"
      }
    },
    {
      "cell_type": "code",
      "source": [
        "..."
      ],
      "metadata": {
        "id": "rezPhJCQr-Sj"
      },
      "execution_count": null,
      "outputs": []
    },
    {
      "cell_type": "markdown",
      "source": [
        "How many trainable parameters does the model have? In which layers can most of these be found?"
      ],
      "metadata": {
        "id": "tOEjbfpH5EcJ"
      }
    },
    {
      "cell_type": "markdown",
      "source": [
        "---\n",
        "\n",
        "**YOUR ANSWER HERE**\n",
        "\n",
        "---"
      ],
      "metadata": {
        "id": "c6Hhwm_n5Iwi"
      }
    },
    {
      "cell_type": "markdown",
      "source": [
        "## 3.3 **TODO**: Train the model (7 pts)\n",
        "\n",
        "Now train the model (this may take a while):\n",
        "\n",
        "- You can use either stochastic gradient descent or (probably better) Adam.\n",
        "- Set aside 20% of your training data for validation.\n",
        "- Choose an appropriate loss function and make sure to explain your choice.\n",
        "- Add accuracy as a metric to watch.\n",
        "- Train until the loss is no larger than 1.4 (ideally: until the model converges).\n",
        "- Make sure you store the output of `model.fit` in a variable so that you can plot the training progression. Otherwise you might have to stare at your screen for another 20 mins or so.\n",
        "\n",
        "> Hints:\n",
        "> - Make sure your labels are one-hot encoded.\n",
        "> - If you get a mismatched shape error, make sure you chose the correct shape \n",
        ">   for your input and output layer, and that the class labels are in the \n",
        ">   appropriate format.</small>\n"
      ],
      "metadata": {
        "id": "pXLLKFxXs6qu"
      }
    },
    {
      "cell_type": "code",
      "source": [
        "..."
      ],
      "metadata": {
        "id": "_50vTMTiK18s"
      },
      "execution_count": null,
      "outputs": []
    },
    {
      "cell_type": "markdown",
      "source": [
        "## 3.4 **TODO**: Visualize training progression (3 pts)\n",
        "\n",
        "If you followed the hint above, you should have stored the output of `model.fit` in a variable. Now use this variable to visualize the progression of the loss (and the validation loss) over time.\n",
        "\n",
        "Make sure to label your axes."
      ],
      "metadata": {
        "id": "kCVZACv17mB1"
      }
    },
    {
      "cell_type": "code",
      "source": [
        "..."
      ],
      "metadata": {
        "id": "3srRDVlwOz_C"
      },
      "execution_count": null,
      "outputs": []
    },
    {
      "cell_type": "markdown",
      "source": [
        "## 3.5 **TODO**: Evaluate model performance (3 pts)\n",
        "\n",
        "Now use your trained model to calculate the accuracy on the training and test sets:"
      ],
      "metadata": {
        "id": "D2lpsHUO7tHo"
      }
    },
    {
      "cell_type": "code",
      "source": [
        "..."
      ],
      "metadata": {
        "id": "DPKqGfTg7yXY"
      },
      "execution_count": null,
      "outputs": []
    },
    {
      "cell_type": "markdown",
      "source": [
        "Is the model underfitting, overfitting, or just right?"
      ],
      "metadata": {
        "id": "PavIDLgD8Ib1"
      }
    },
    {
      "cell_type": "markdown",
      "source": [
        "---\n",
        "\n",
        "**YOUR ANSWER HERE**\n",
        "\n",
        "---"
      ],
      "metadata": {
        "id": "yCQx90W_8Krf"
      }
    },
    {
      "cell_type": "markdown",
      "source": [
        "## 3.6 **TODO**: Compute the confusion matrix (7 pts)\n",
        "\n",
        "Plot a confusion matrix (also known as an error matrix) for your model's test set predictions.\n",
        "\n",
        "A confusion matrix is a $N \\times N$ matrix, where $N$ is the number of classes. Each row of the matrix represents the instances in an actual class while each column represents the instances in a predicted class.\n",
        "This way, the main diagonal of the matrix should count how many test samples were correctly classified, and off-diagonal elements tell you what the specific errors were that the model made (e.g., an instance of class 3 was misclassified as class 7)."
      ],
      "metadata": {
        "id": "-VrvfPCCIDFW"
      }
    },
    {
      "cell_type": "markdown",
      "source": [
        "> Hint: For a binary classification problem, the confusion matrix looks like this:\n",
        "\n",
        "![image.png](data:image/png;base64,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)"
      ],
      "metadata": {
        "id": "ty5w67hyIF07"
      }
    },
    {
      "cell_type": "code",
      "source": [
        "..."
      ],
      "metadata": {
        "id": "elEMQnRAIHyy"
      },
      "execution_count": null,
      "outputs": []
    },
    {
      "cell_type": "markdown",
      "source": [
        "Verify that you did it right by summing up the elements on the main diagonal, divided by the number of test samples. This should match the accuracy value calculated above:"
      ],
      "metadata": {
        "id": "u4dzYa-AIJhV"
      }
    },
    {
      "cell_type": "code",
      "source": [
        "..."
      ],
      "metadata": {
        "id": "m4y-r1SNIKNn"
      },
      "execution_count": null,
      "outputs": []
    },
    {
      "cell_type": "markdown",
      "source": [
        "Answer the following questions by inspecting your confusion matrix (either visually or programmatically):\n",
        "- Images from which class were most often *correctly* classified?\n",
        "- Images from which class were most often *mis*classified?"
      ],
      "metadata": {
        "id": "2L4NJvLsIKtS"
      }
    },
    {
      "cell_type": "markdown",
      "source": [
        "---\n",
        "\n",
        "**YOUR ANSWER HERE**\n",
        "\n",
        "---"
      ],
      "metadata": {
        "id": "14HRk8btIMgQ"
      }
    },
    {
      "cell_type": "markdown",
      "source": [
        "## 3.7 **TODO**: Visualize example images (6 pts)\n",
        "\n",
        "Plot three examples of images from the test set that were correctly classified:"
      ],
      "metadata": {
        "id": "6UlzZZ-JIPNr"
      }
    },
    {
      "cell_type": "code",
      "source": [
        "..."
      ],
      "metadata": {
        "id": "iSCok4xQIPwd"
      },
      "execution_count": null,
      "outputs": []
    },
    {
      "cell_type": "markdown",
      "source": [
        "Also plot three examples of images from the test set that were misclassified:"
      ],
      "metadata": {
        "id": "VRenRR4mIQeQ"
      }
    },
    {
      "cell_type": "code",
      "source": [
        "..."
      ],
      "metadata": {
        "id": "4ANWca26ISsS"
      },
      "execution_count": null,
      "outputs": []
    },
    {
      "cell_type": "markdown",
      "source": [
        "## 3.8 **TODO**: Improving the model (6 pts)\n",
        "\n",
        "If you had more time, what else could you do to improve the model's performance? Name at least three things to try, and briefly explain why they might increase performance."
      ],
      "metadata": {
        "id": "Z92HXg9-8HUe"
      }
    },
    {
      "cell_type": "markdown",
      "source": [
        "---\n",
        "\n",
        "**YOUR ANSWER HERE**\n",
        "\n",
        "---"
      ],
      "metadata": {
        "id": "M-9x_vXe8Vy0"
      }
    },
    {
      "cell_type": "code",
      "source": [],
      "metadata": {
        "id": "o8mftPL_9n1f"
      },
      "execution_count": null,
      "outputs": []
    }
  ]
}