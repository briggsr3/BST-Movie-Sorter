{
  "nbformat": 4,
  "nbformat_minor": 0,
  "metadata": {
    "colab": {
      "provenance": [],
      "include_colab_link": true
    },
    "kernelspec": {
      "name": "python3",
      "display_name": "Python 3"
    },
    "language_info": {
      "name": "python"
    }
  },
  "cells": [
    {
      "cell_type": "markdown",
      "metadata": {
        "id": "view-in-github",
        "colab_type": "text"
      },
      "source": [
        "<a href=\"https://colab.research.google.com/github/briggsrr/BST-Movie-Sorter/blob/master/Homework_Assignment_4.ipynb\" target=\"_parent\"><img src=\"https://colab.research.google.com/assets/colab-badge.svg\" alt=\"Open In Colab\"/></a>"
      ]
    },
    {
      "cell_type": "markdown",
      "source": [
        "# CS/ECE 181: Homework Assignment #4\n",
        "\n",
        "<small>v1.0.2</small>\n",
        "\n",
        "**DUE DATE**: November 20, 11:59pm Pacific via GauchoSpace\n",
        "\n",
        "* You can save a copy of this document in your own Drive and work on it in your own Colab\n",
        "* When you're done, select \"Download .ipynb\" and drop the file in the Homework Assignment #2 folder on GauchoSpace.\n",
        "* You can add comments, multiple cells, etc. Just make sure to explain what you did so that we can give you partial credit.\n",
        "* Remember, you are expected to work alone. You can discuss a solution approach with your peers, but you must not copy their code. The implementation must be yours. If you google how to do stuff (or use open-source code or libraries) you must acknowledge your sources.\n",
        "\n",
        "> **Note**: The goal is to implement the perceptron algorithm from scratch, meaning you should not be using scikit-learn's or OpenCV's perceptron classifiers. You can use other sklearn, OpenCV, and NumPy utility functions though. Also, feel free to add as many text/code cells as you like."
      ],
      "metadata": {
        "id": "MQbnFiIfIQRe"
      }
    },
    {
      "cell_type": "markdown",
      "source": [
        "# 1. Perceptron: Binary Classification (15 pts)\n",
        "\n",
        "In the 1950s, American psychologist and artificial intelligence researcher Frank Rosenblatt invented an algorithm that would learn a binary classifier called a threshold function:  a function that maps its input $\\boldsymbol{x}$ (a real-valued vector) to an output value $\\hat{y}$:\n",
        "\n",
        "$$\\begin{equation} \\hat{y} = \\begin{cases} 1 & \\mathrm{if}\\ \\boldsymbol{w} \\cdot \\boldsymbol{x} + b > 0 \\\\ -1 & \\mathrm{otherwise} \\end{cases}, \\end{equation} \\hspace{1in} (1)$$\n",
        "\n",
        "where $\\boldsymbol{w}$ is a weight vector, $\\cdot$ denotes the dot product, and $b$ is a bias term (scalar).\n",
        "The bias shifts the decision boundary away from the origin and does not depend on any input value.\n",
        "\n",
        "In the first section, we want to implement the perceptron algorithm from scratch and apply it to a binary classification problem."
      ],
      "metadata": {
        "id": "ExOAjLY2IdR7"
      }
    },
    {
      "cell_type": "markdown",
      "source": [
        "## 1.1 Generating a Toy Dataset\n",
        "\n",
        "To test our perceptron classifier, we need to generate some mock data.\n",
        "\n",
        "Let's keep things simple for now and generate 100 data samples (`n_samples`) belonging to one of two blobs (`center`s), relying on scikit-learn's `make_blobs` function:"
      ],
      "metadata": {
        "id": "CdiLxXP3I44C"
      }
    },
    {
      "cell_type": "code",
      "execution_count": 1,
      "metadata": {
        "id": "mKftf7U3IE2d"
      },
      "outputs": [],
      "source": [
        "from sklearn.datasets import make_blobs\n",
        "X, y = make_blobs(n_samples=100, centers=2, cluster_std=2.2, random_state=42)"
      ]
    },
    {
      "cell_type": "markdown",
      "source": [
        "We denote the feature matrix as `X` and the vector containing the target labels as `y`.\n",
        "The feature matrix is typically of size (`n_samples` x `n_features`) and the target labels is a column vector with `n_samples` elements.\n",
        "\n",
        "We can convince ourselves of that by looking at the shape of these two variables:"
      ],
      "metadata": {
        "id": "EbM87rlPJ3Wu"
      }
    },
    {
      "cell_type": "code",
      "source": [
        "X.shape, y.shape"
      ],
      "metadata": {
        "colab": {
          "base_uri": "https://localhost:8080/"
        },
        "id": "KVgaJ8QzKIBO",
        "outputId": "aca308c7-de78-47d5-a845-7363e075b371"
      },
      "execution_count": 2,
      "outputs": [
        {
          "output_type": "execute_result",
          "data": {
            "text/plain": [
              "((100, 2), (100,))"
            ]
          },
          "metadata": {},
          "execution_count": 2
        }
      ]
    },
    {
      "cell_type": "markdown",
      "source": [
        "Here, every feature (i.e., every row in `X`) has two feature values (i.e., an `x` value and a `y` coordinate). The target label for `X[i]` is in `y[i]`.\n",
        "\n",
        "This means we can scatter-plot the data as follows to verify that there are two clusters of data points:"
      ],
      "metadata": {
        "id": "JbIJ2JjeK-TI"
      }
    },
    {
      "cell_type": "code",
      "source": [
        "import matplotlib.pyplot as plt\n",
        "plt.scatter(X[:, 0], X[:, 1], c=y)"
      ],
      "metadata": {
        "colab": {
          "base_uri": "https://localhost:8080/",
          "height": 283
        },
        "id": "NY4rV2azKzLY",
        "outputId": "02384593-9ada-4274-c6dc-f34a7ac27459"
      },
      "execution_count": 3,
      "outputs": [
        {
          "output_type": "execute_result",
          "data": {
            "text/plain": [
              "<matplotlib.collections.PathCollection at 0x7f2b23012ad0>"
            ]
          },
          "metadata": {},
          "execution_count": 3
        },
        {
          "output_type": "display_data",
          "data": {
            "text/plain": [
              "<Figure size 432x288 with 1 Axes>"
            ],
            "image/png": "[encoded data removed]"
          },
          "metadata": {
            "needs_background": "light"
          }
        }
      ]
    },
    {
      "cell_type": "markdown",
      "source": [
        "To stay consistent with the lecture and Equation 1 above, we will work with target values $+1$ and $-1$ (as opposed to $1$ and $0$):"
      ],
      "metadata": {
        "id": "yG-mmo_gP230"
      }
    },
    {
      "cell_type": "code",
      "source": [
        "import numpy as np\n",
        "y = np.where(y > 0, 1, -1)"
      ],
      "metadata": {
        "id": "-IfO2yVqQTqe",
        "colab": {
          "base_uri": "https://localhost:8080/"
        },
        "outputId": "1a2a52be-e6f9-4f91-d92c-05748f61e5b6"
      },
      "execution_count": 11,
      "outputs": [
        {
          "output_type": "stream",
          "name": "stdout",
          "text": [
            "[-1  1 -1  1  1 -1  1  1 -1 -1 -1  1 -1 -1  1  1  1  1  1 -1  1  1  1  1\n",
            "  1 -1  1 -1  1  1 -1 -1 -1 -1 -1  1  1 -1 -1 -1 -1  1  1  1  1 -1 -1 -1\n",
            " -1  1  1 -1 -1  1 -1  1 -1  1  1 -1 -1  1 -1  1  1  1  1 -1  1  1 -1  1\n",
            "  1  1  1  1  1 -1  1 -1  1 -1 -1 -1  1 -1 -1 -1  1 -1  1 -1 -1 -1 -1 -1\n",
            " -1  1 -1 -1]\n"
          ]
        }
      ]
    },
    {
      "cell_type": "markdown",
      "source": [
        "## 1.2 Implementing the Perceptron Algorithm (15 pts)\n",
        "\n",
        "Now we are ready to implement the perceptron. We need two functions:\n",
        "\n",
        "- `predict`: Given a number of features $x_i$, we want to predict their labels $\\hat{y}_i$ according to Equation 1\n",
        "\n",
        "- `fit`: Given a number of features $x_i$ and their corresponding labels $y_i$, we want to run the perceptron algorithm to update a number of weights $w_j$ as well as a bias term. "
      ],
      "metadata": {
        "id": "Movm0KYZLdGi"
      }
    },
    {
      "cell_type": "markdown",
      "source": [
        "### 1.2.1 Predicting Labels (2 pts)\n",
        "\n",
        "**TODO**: Implement Equation 1 in the `predict` function below."
      ],
      "metadata": {
        "id": "ZneuTuOaRK7s"
      }
    },
    {
      "cell_type": "code",
      "source": [
        "def predict(X, weights, bias):\n",
        "    \"\"\"Predict the labels of X\n",
        "\n",
        "    Parameters\n",
        "    ----------\n",
        "    X : NumPy array\n",
        "        2D feature matrix of size (n_samples, n_features)\n",
        "    weights : NumPy array\n",
        "        weight vector of size (n_samples, 1)\n",
        "    bias : float\n",
        "        bias term\n",
        "\n",
        "    Returns\n",
        "    -------\n",
        "    y_hat : NumPy array\n",
        "        vector of target labels, one label per sample\n",
        "    \"\"\"\n",
        "    y_hat = []\n",
        "    for i in range(len(X)):\n",
        "      out = np.dot(X[i], weights) + bias\n",
        "      if(out > 0):\n",
        "        y_d = 1\n",
        "      else:\n",
        "        y_d = -1\n",
        "      y_hat.append(y_d);\n",
        "    return np.array(y_hat)"
      ],
      "metadata": {
        "id": "RY8caFPFQguS"
      },
      "execution_count": 19,
      "outputs": []
    },
    {
      "cell_type": "markdown",
      "source": [
        "### 1.2.2 Updating the Weights (8 pts)\n",
        "\n",
        "**TODO**: Implement the perceptron algorithm using the `fit` function below.\n",
        "\n",
        "As a reminder, the perceptron algorithm works as follows:\n",
        "\n",
        "1. Initialize the weight vector $\\boldsymbol{w}$ and the bias $b$ to zero.\n",
        "2. Start with the first sample $\\boldsymbol{x}_0$. Predict its target label $\\hat{\\boldsymbol{y}}_0$ and compare it to the ground-truth label $\\boldsymbol{y}_0$.\n",
        "   a. If the prediction was correct, do nothing.\n",
        "   b. If the prediction is wrong, update the weights and bias:\n",
        "\n",
        "      $$\\delta_0 = \\eta (\\boldsymbol{y}_0 - \\hat{\\boldsymbol{y}}_0)$$\n",
        "   \n",
        "      $$\\boldsymbol{w} \\rightarrow \\boldsymbol{w} + \\delta_0 \\boldsymbol{x}_0$$\n",
        "\n",
        "      $$b \\rightarrow b + \\delta_0$$\n",
        "\n",
        "      where $\\eta$ is the learning rate.\n",
        "3. Repeat for all samples.\n",
        "4. Repeat for a number of iterations `n_iter`."
      ],
      "metadata": {
        "id": "4wPgkKOiR-eg"
      }
    },
    {
      "cell_type": "code",
      "source": [
        "def fit(X, y, eta, n_iter):\n",
        "    \"\"\"Train a perceptron on X\n",
        "\n",
        "    Parameters\n",
        "    ----------\n",
        "    X : NumPy array\n",
        "        2D feature matrix of size (n_samples, n_features)\n",
        "    y : NumPy array\n",
        "        vector of target labels of size (n_samples, )\n",
        "    eta : float\n",
        "        learning rate\n",
        "    n_iter : int\n",
        "        number of iterations\n",
        "\n",
        "    Returns\n",
        "    -------\n",
        "    weights : NumPy array\n",
        "        vector of learned weights of size (n_features, )\n",
        "    bias : float\n",
        "        learned bias\n",
        "    \"\"\"\n",
        "\n",
        "    n_samples, n_features = X.shape\n",
        "    weights = np.zeros(n_features)\n",
        "    bias = 0\n",
        "    \n",
        "    for x in range(n_iter):\n",
        "      for index, x_i in enumerate(X):\n",
        "        out = np.dot(x_i,weights) + bias\n",
        "        if(out > 0):\n",
        "          y_pred = 1\n",
        "        else:\n",
        "          y_pred = -1\n",
        "        \n",
        "        update = eta * (y[index] - y_pred)\n",
        "        weights += update * x_i\n",
        "        bias += update \n",
        "\n",
        "    return weights, bias"
      ],
      "metadata": {
        "id": "blufFEq9W_tk"
      },
      "execution_count": 20,
      "outputs": []
    },
    {
      "cell_type": "markdown",
      "source": [
        "### 1.2.3 Fit the Perceptron to the Toy Data (2 pts)\n",
        "\n",
        "**TODO**: Now we have all the pieces in place to train our perceptron. Use your `fit` method from above to do that.\n",
        "\n",
        "You'll want to experiment with the possible values for `eta` and `n_iter` above. A good starting point might be `eta=0.1` and `n_iter=10`."
      ],
      "metadata": {
        "id": "CZQVET7snvbK"
      }
    },
    {
      "cell_type": "code",
      "source": [
        "from sklearn.model_selection import train_test_split\n",
        "test_size = 0.3\n",
        "random_state = 221\n",
        "\n",
        "X_train, X_test, y_train, y_test = train_test_split(X, y, test_size=test_size, \\\n",
        "                                                    shuffle=True, random_state=random_state)\n",
        "weights, bias = fit(X_train, y_train, .1, 10)"
      ],
      "metadata": {
        "id": "U18mRHfsoOQu"
      },
      "execution_count": 49,
      "outputs": []
    },
    {
      "cell_type": "markdown",
      "source": [
        "**TODO**: To make sure the perceptron worked as intended, calculate classification accuracy. You can use `sklearn.metrics.accuracy_score` for this or code it up yourself."
      ],
      "metadata": {
        "id": "4XPKtVkBoQzN"
      }
    },
    {
      "cell_type": "code",
      "source": [
        "from sklearn.metrics import accuracy_score\n",
        "predictions = predict(X_test, weights, bias)\n",
        "accuracy_score(y_test, predictions)\n"
      ],
      "metadata": {
        "id": "22JYasDBocEX",
        "colab": {
          "base_uri": "https://localhost:8080/"
        },
        "outputId": "4a009da5-0017-4c61-dbea-bcb909bc7b62"
      },
      "execution_count": 48,
      "outputs": [
        {
          "output_type": "execute_result",
          "data": {
            "text/plain": [
              "1.0"
            ]
          },
          "metadata": {},
          "execution_count": 48
        }
      ]
    },
    {
      "cell_type": "markdown",
      "source": [
        "You should get a perfect score, since the data is linearly separable."
      ],
      "metadata": {
        "id": "Zne3ca2QqNsw"
      }
    },
    {
      "cell_type": "markdown",
      "source": [
        "### 1.2.4 Decision Boundary (3 pts)\n",
        "\n",
        "What is the decision boundary learned by the perceptron? Give an equation (or inequality if you prefer) that relates the perceptron's predicted target label to the relative weighting of the feature values."
      ],
      "metadata": {
        "id": "R0ytGv2GoPPP"
      }
    },
    {
      "cell_type": "markdown",
      "source": [
        "---\n",
        "\n",
        "The perception is determining output by dot producting the weights with inputs and adding the bias so: w dot x + b \n",
        "\n",
        "---"
      ],
      "metadata": {
        "id": "3MQLsnY1o23E"
      }
    },
    {
      "cell_type": "markdown",
      "source": [
        "We can also plot the decision boundary using the following utility function.\n",
        "\n",
        "The function basically creates a finely sampled meshgrid that spans the range of values encountered in the features and uses the perceptron's `predict` function to color the different regions of the parameter landscape:"
      ],
      "metadata": {
        "id": "nMauAqLwo5xt"
      }
    },
    {
      "cell_type": "code",
      "source": [
        "def plot_decision_boundary(weights, bias, X_test, y_test):\n",
        "    \"\"\"Plot decision boundary\n",
        "\n",
        "    Parameters\n",
        "    ----------\n",
        "    weights : NumPy array\n",
        "        vector of learned weights of size (n_features, )\n",
        "    bias : float\n",
        "        learned bias\n",
        "    X_test : NumPy array\n",
        "        2D feature matrix of size (n_samples, n_features)\n",
        "    y_test : NumPy array\n",
        "        1D vector of target labels of size (n_samples, )\n",
        "    \"\"\"\n",
        "    # Create a mesh to plot in:\n",
        "    h = 0.02  # step size in mesh\n",
        "    x_min, x_max = X_test[:, 0].min() - 1, X_test[:, 0].max() + 1\n",
        "    y_min, y_max = X_test[:, 1].min() - 1, X_test[:, 1].max() + 1\n",
        "    xx, yy = np.meshgrid(np.arange(x_min, x_max, h),\n",
        "                         np.arange(y_min, y_max, h))\n",
        "    \n",
        "    # Predict target labels for all points on the mesh:\n",
        "    X_hypo = np.c_[xx.ravel().astype(np.float32),\n",
        "                   yy.ravel().astype(np.float32)]\n",
        "    zz = predict(X_hypo, weights, bias)\n",
        "    zz = zz.reshape(xx.shape)\n",
        "    \n",
        "    # Color the decision regions and scatter the data on top of it:\n",
        "    plt.contourf(xx, yy, zz, cmap=plt.cm.coolwarm, alpha=0.8)\n",
        "    plt.scatter(X_test[:, 0], X_test[:, 1], c=y_test, s=100)"
      ],
      "metadata": {
        "id": "009MmURNpP1J"
      },
      "execution_count": 45,
      "outputs": []
    },
    {
      "cell_type": "markdown",
      "source": [
        "**TODO:** You will have to call the function accordingly using the output of your `fit` function:"
      ],
      "metadata": {
        "id": "LDAoV4NZqBq-"
      }
    },
    {
      "cell_type": "code",
      "source": [
        "plot_decision_boundary(weights, bias, X_test, y_test)"
      ],
      "metadata": {
        "id": "kVrcwG2fqGXw",
        "colab": {
          "base_uri": "https://localhost:8080/",
          "height": 169
        },
        "outputId": "dee6fee4-bbb6-4cd9-fbc6-ec0956b0794c"
      },
      "execution_count": 1,
      "outputs": [
        {
          "output_type": "error",
          "ename": "NameError",
          "evalue": "ignored",
          "traceback": [
            "\u001b[0;31m---------------------------------------------------------------------------\u001b[0m",
            "\u001b[0;31mNameError\u001b[0m                                 Traceback (most recent call last)",
            "\u001b[0;32m<ipython-input-1-109fc1ead049>\u001b[0m in \u001b[0;36m<module>\u001b[0;34m\u001b[0m\n\u001b[0;32m----> 1\u001b[0;31m \u001b[0mplot_decision_boundary\u001b[0m\u001b[0;34m(\u001b[0m\u001b[0mweights\u001b[0m\u001b[0;34m,\u001b[0m \u001b[0mbias\u001b[0m\u001b[0;34m,\u001b[0m \u001b[0mX_test\u001b[0m\u001b[0;34m,\u001b[0m \u001b[0my_test\u001b[0m\u001b[0;34m)\u001b[0m\u001b[0;34m\u001b[0m\u001b[0;34m\u001b[0m\u001b[0m\n\u001b[0m",
            "\u001b[0;31mNameError\u001b[0m: name 'plot_decision_boundary' is not defined"
          ]
        }
      ]
    },
    {
      "cell_type": "markdown",
      "source": [
        "# 2. Perceptron: Multi-Label Classification (15 pts)\n",
        "\n",
        "In this section, we want to make our perceptron be able to handle multi-label classification problems."
      ],
      "metadata": {
        "id": "c_o98cmWIfJo"
      }
    },
    {
      "cell_type": "markdown",
      "source": [
        "## 2.1 One-Hot Encoding the Data (3 pts)\n",
        "\n",
        "The first change you'll need to change is the vector of target labels: Instead of predicting $+1$ and $-1$ for each sample, you will need to predict $+1$ or $-1$ for every possible class.\n",
        "\n",
        "Say you have three classes: \"cat\", \"dog\", and \"horse\".\n",
        "- An integer encoding would assign an integer to each class; e.g. \"cat\": 0, \"dog\": 1, \"horse\": 2. Then the model would learn to predict an integer for each datapoint.\n",
        " - A one-hot encoding instead assigns a binary variable to every possible integer value above:\n",
        "\n",
        "   $$\\begin{array}{rrr} cat & dog & horse \\\\ 1 & 0 & 0 \\\\ 0 & 1 & 0 \\\\ 0 & 0 & 1 \\end{array}$$\n",
        "\n",
        "   This is how it's done traditionally.\n",
        "   However, our perceptron is used to $+1$ and $-1$, so we'd instead be using:\n",
        "\n",
        "   $$\\begin{array}{rrr} cat & dog & horse \\\\ 1 & -1 & -1 \\\\ -1 & 1 & -1 \\\\ -1 & -1 & 1 \\end{array}$$\n",
        "\n",
        "   So if a data point belongs to class \"cat\", the perceptron would predict $[1,-1,-1]$. A \"dog\" sample would be encoded as $[-1, 1, -1]$, etc."
      ],
      "metadata": {
        "id": "H5ywG_rR-puA"
      }
    },
    {
      "cell_type": "markdown",
      "source": [
        "**TODO**: Given a 1D vector `y` of integer-encoded target labels, return a one-hot encoded equivalent matrix of target labels:"
      ],
      "metadata": {
        "id": "fp81fsaD-tGY"
      }
    },
    {
      "cell_type": "code",
      "source": [
        "def one_hot(y):\n",
        "    \"\"\"One-hot encoding\n",
        "\n",
        "    Parameters\n",
        "    ----------\n",
        "    y : NumPy array\n",
        "        1D vector of target labels, size (n_samples, )\n",
        "        For simplicity, we will assume that all entries in `y` are integers\n",
        "        between 0 (the first class) and n-1 (the n-th class).\n",
        "\n",
        "    Returns\n",
        "    -------\n",
        "    y_one : NumPy array\n",
        "        2D matrix of one-hot encoded target labels, size (n_samples, n_classes)\n",
        "    \"\"\"\n",
        "    ... # TODO\n",
        "    return y_one"
      ],
      "metadata": {
        "id": "b9eidc12Ig82"
      },
      "execution_count": null,
      "outputs": []
    },
    {
      "cell_type": "markdown",
      "source": [
        "Run it on an example to make sure it works as intended:"
      ],
      "metadata": {
        "id": "Qhg-PIZb-x8P"
      }
    },
    {
      "cell_type": "code",
      "source": [
        "y = np.array([1, 2, 0, 4, 1, 3])\n",
        "\n",
        "one_hot(y)"
      ],
      "metadata": {
        "id": "hwZwuEx4-yhG"
      },
      "execution_count": null,
      "outputs": []
    },
    {
      "cell_type": "markdown",
      "source": [
        "## 2.2 Applying the Perceptron to the `digits` Dataset (10 pts)\n",
        "\n",
        "**TODO:** In the code cell(s) below, make the necessary changes to your `fit` and `predict` functions to make the perceptron correctly handle multi-class classification.\n",
        "\n",
        "You'll need to ensure two things:\n",
        "\n",
        "- In `predict`, `weights` is now a `(n_features, n_classes)` matrix, so `X` times `weights` is a matrix multiplication. \n",
        "- In `fit`, the input argument `y` is now a `(n_samples, n_classes)` matrix and the weight matrix is `(n_features, n_classes)`. \n",
        "\n",
        "To make sure the algorithm works as intended, let's apply it to a more complicated dataset.\n",
        "\n",
        "Below we are loading the `digits` dataset that comes with scikit-learn:"
      ],
      "metadata": {
        "id": "GiYPPar7vCut"
      }
    },
    {
      "cell_type": "code",
      "source": [
        "from sklearn.datasets import load_digits\n",
        "\n",
        "digits = load_digits()"
      ],
      "metadata": {
        "id": "6RDRVphuvc3J"
      },
      "execution_count": null,
      "outputs": []
    },
    {
      "cell_type": "markdown",
      "source": [
        "The data container contains a bunch of fields that includes the raw images as well as feature matrices and target label vectors:"
      ],
      "metadata": {
        "id": "drNMCYKvvlua"
      }
    },
    {
      "cell_type": "code",
      "source": [
        "digits.keys()"
      ],
      "metadata": {
        "colab": {
          "base_uri": "https://localhost:8080/"
        },
        "id": "t6wvakBwvh-1",
        "outputId": "7c4e8884-e3e3-44bc-a2da-e8d5914a8e4b"
      },
      "execution_count": null,
      "outputs": [
        {
          "output_type": "execute_result",
          "data": {
            "text/plain": [
              "dict_keys(['data', 'target', 'frame', 'feature_names', 'target_names', 'images', 'DESCR'])"
            ]
          },
          "metadata": {},
          "execution_count": 12
        }
      ]
    },
    {
      "cell_type": "markdown",
      "source": [
        "We can have a look at the some example images from the dataset:"
      ],
      "metadata": {
        "id": "CiEytmQPvvKo"
      }
    },
    {
      "cell_type": "code",
      "source": [
        "fig, axes = plt.subplots(ncols=10, nrows=2, figsize=(14, 4))\n",
        "for ax, img in zip(axes.ravel(), digits['images']):\n",
        "    ax.imshow(img, cmap='gray')\n",
        "fig.tight_layout()"
      ],
      "metadata": {
        "colab": {
          "base_uri": "https://localhost:8080/",
          "height": 254
        },
        "id": "_01XEKWav0ht",
        "outputId": "aebe975f-53e2-4371-bebd-3dbc6769d84b"
      },
      "execution_count": null,
      "outputs": [
        {
          "output_type": "display_data",
          "data": {
            "text/plain": [
              "<Figure size 1008x288 with 20 Axes>"
            ],
            "image/png": "[encoded data removed]"
          },
          "metadata": {
            "needs_background": "light"
          }
        }
      ]
    },
    {
      "cell_type": "markdown",
      "source": [
        "You can see that the dataset contains 1797 images of size $8 \\times 8$ pixels:"
      ],
      "metadata": {
        "id": "R-PCWtj_wH9Q"
      }
    },
    {
      "cell_type": "code",
      "source": [
        "digits['images'].shape"
      ],
      "metadata": {
        "colab": {
          "base_uri": "https://localhost:8080/"
        },
        "id": "IK1JdaCUwE8S",
        "outputId": "91cf9990-4f91-41b0-a767-a27272a47c74"
      },
      "execution_count": null,
      "outputs": [
        {
          "output_type": "execute_result",
          "data": {
            "text/plain": [
              "(1797, 8, 8)"
            ]
          },
          "metadata": {},
          "execution_count": 14
        }
      ]
    },
    {
      "cell_type": "markdown",
      "source": [
        "We can extract the feature matrix and target labels as follows:"
      ],
      "metadata": {
        "id": "O_ayiletwZ8J"
      }
    },
    {
      "cell_type": "code",
      "source": [
        "X = digits.data\n",
        "y = digits.target\n",
        "\n",
        "X.shape, y.shape"
      ],
      "metadata": {
        "colab": {
          "base_uri": "https://localhost:8080/"
        },
        "id": "ygsjEftHwQej",
        "outputId": "1acd0423-cab9-4adf-87d8-cc21b4105c92"
      },
      "execution_count": null,
      "outputs": [
        {
          "output_type": "execute_result",
          "data": {
            "text/plain": [
              "((1797, 64), (1797,))"
            ]
          },
          "metadata": {},
          "execution_count": 15
        }
      ]
    },
    {
      "cell_type": "markdown",
      "source": [
        "**TODO**: Now, in the code cell(s) below:\n",
        "\n",
        "- Implement the one-hot encoder and apply it to the target labels\n",
        "- Split the data 80/20 into train and test sets (you can use `sklearn.model_selection.train_test_split`)\n",
        "- Change `fit` and `predict` so that you can fit the multi-class perceptron to the train data.\n",
        "- Determine the perceptron's classification accuracy on both train and test data."
      ],
      "metadata": {
        "id": "Ut-O8P-Rwegt"
      }
    },
    {
      "cell_type": "code",
      "source": [
        "... # TODO"
      ],
      "metadata": {
        "id": "jI7zDClvw2-C"
      },
      "execution_count": null,
      "outputs": []
    },
    {
      "cell_type": "markdown",
      "source": [
        "## 2.3 Interpreting the Results (2 pts)\n",
        "\n",
        "Is your perceptron overfitting or underfitting your data? Why?"
      ],
      "metadata": {
        "id": "fpie5XEJxDjG"
      }
    },
    {
      "cell_type": "markdown",
      "source": [
        "---\n",
        "\n",
        "**YOUR ANSWER HERE**\n",
        "\n",
        "---"
      ],
      "metadata": {
        "id": "zvzbu49_xI7f"
      }
    },
    {
      "cell_type": "markdown",
      "source": [
        "# 3. Perceptron: Feature Engineering (10 pts)\n",
        "\n",
        "One way in which we could try to improve the performance of our perceptron is by feature engineering. This involves applying a preprocessing method to the images so that our perceptron does not operate on the raw pixel values.\n",
        "\n",
        "**TODO**: In the code cells below, implement *one* of the feature detection/extraction methods that we have seen in class, explain why you picked that one (why do you think will it help the perceptron's performance?) and train your perceptron on it.\n",
        "\n",
        "> *Hint*: You may want to check out [skimage.feature](https://scikit-image.org/docs/stable/api/skimage.feature.html) and [sklearn.preprocessing](https://scikit-learn.org/stable/modules/preprocessing.html). You can also use standard OpenCV functions."
      ],
      "metadata": {
        "id": "PAsoFbRLIhZQ"
      }
    },
    {
      "cell_type": "code",
      "source": [
        "... # TODO"
      ],
      "metadata": {
        "id": "E7l9Sopaz87p"
      },
      "execution_count": null,
      "outputs": []
    },
    {
      "cell_type": "markdown",
      "source": [
        "**TODO**: Calculate your perceptron's classification accuracy on train and test set.\n",
        "- Did your performance go up/down and why do you think that is?\n",
        "- Is your perceptron underfitting, overfitting, or just right?\n",
        "- What else could you try to improve the perceptron's performance?"
      ],
      "metadata": {
        "id": "sOaJ14oDz934"
      }
    },
    {
      "cell_type": "code",
      "source": [
        "... # TODO"
      ],
      "metadata": {
        "id": "NvZTJhR9_JtI"
      },
      "execution_count": null,
      "outputs": []
    },
    {
      "cell_type": "markdown",
      "source": [
        "---\n",
        "\n",
        "**YOUR ANSWER HERE**\n",
        "\n",
        "---"
      ],
      "metadata": {
        "id": "82wTjBt0w3hm"
      }
    }
  ]
}